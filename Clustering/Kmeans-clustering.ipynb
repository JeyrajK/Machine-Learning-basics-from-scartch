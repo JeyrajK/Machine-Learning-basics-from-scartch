{
 "cells": [
  {
   "cell_type": "code",
   "execution_count": 9,
   "metadata": {},
   "outputs": [
    {
     "data": {
      "image/png": "[encoded data removed]",
      "text/plain": [
       "<Figure size 432x288 with 1 Axes>"
      ]
     },
     "metadata": {},
     "output_type": "display_data"
    }
   ],
   "source": [
    "import matplotlib.pyplot as plt\n",
    "from matplotlib import style\n",
    "style.use('ggplot')\n",
    "import numpy as np\n",
    "\n",
    "data =np.array([[1, 2],\n",
    "              [1.5, 1.8],\n",
    "              [6, 8 ],\n",
    "              [7, 9],\n",
    "              [1, 0.6],\n",
    "              [7,10],\n",
    "              [8,2],\n",
    "              [10,2],\n",
    "              [9,1],])\n",
    "\n",
    "plt.scatter(data[:,0], data[:,1], s=150)\n",
    "plt.show()"
   ]
  },
  {
   "cell_type": "code",
   "execution_count": 2,
   "metadata": {},
   "outputs": [],
   "source": [
    "num_of_centroid=3"
   ]
  },
  {
   "cell_type": "code",
   "execution_count": 3,
   "metadata": {},
   "outputs": [],
   "source": [
    "centroids={}\n",
    "for i in range(num_of_centroid):\n",
    "    centroids[i] = data[i]"
   ]
  },
  {
   "cell_type": "code",
   "execution_count": 4,
   "metadata": {},
   "outputs": [],
   "source": [
    "max_iterations=100\n",
    "tolerance=0.0001"
   ]
  },
  {
   "cell_type": "code",
   "execution_count": 5,
   "metadata": {},
   "outputs": [],
   "source": [
    "import math\n",
    "def Euclidean_distance(feature,centroid):\n",
    "    return np.sqrt(np.sum(np.square(feature-centroid)))"
   ]
  },
  {
   "cell_type": "code",
   "execution_count": 6,
   "metadata": {},
   "outputs": [],
   "source": [
    "for i in range(max_iterations):\n",
    "    classes = {}\n",
    "    for i in range(num_of_centroid):\n",
    "        classes[i] = []\n",
    "\n",
    "    for features in data:\n",
    "        distances = [Euclidean_distance(features,centroids[centroid]) for centroid in centroids]\n",
    "        classification = distances.index(min(distances))\n",
    "        classes[classification].append(features)\n",
    "    \n",
    "    previous = dict(centroids)\n",
    "    for classification in classes:\n",
    "        centroids[classification] = np.average(classes[classification], axis = 0)\n",
    "        \n",
    "    isOptimal = True\n",
    "    for centroid in centroids:\n",
    "\n",
    "        original_centroid = previous[centroid]\n",
    "        curr = centroids[centroid]\n",
    "\n",
    "        if np.sum((curr - original_centroid)/original_centroid * 100.0) > tolerance:\n",
    "            isOptimal = False\n",
    "\n",
    "    if isOptimal:\n",
    "        break"
   ]
  },
  {
   "cell_type": "code",
   "execution_count": 7,
   "metadata": {},
   "outputs": [],
   "source": [
    "colors = [\"r\", \"g\", \"b\"]"
   ]
  },
  {
   "cell_type": "code",
   "execution_count": 8,
   "metadata": {},
   "outputs": [
    {
     "data": {
      "image/png": "[encoded data removed]",
      "text/plain": [
       "<Figure size 432x288 with 1 Axes>"
      ]
     },
     "metadata": {},
     "output_type": "display_data"
    }
   ],
   "source": [
    "for classification in classes:\n",
    "    color = colors[classification] \n",
    "    for features in classes[classification]:\n",
    "        plt.scatter(features[0], features[1], color = color,s = 30)\n",
    "plt.show()"
   ]
  },
  {
   "cell_type": "code",
   "execution_count": null,
   "metadata": {},
   "outputs": [],
   "source": []
  },
  {
   "cell_type": "code",
   "execution_count": null,
   "metadata": {},
   "outputs": [],
   "source": []
  },
  {
   "cell_type": "code",
   "execution_count": null,
   "metadata": {},
   "outputs": [],
   "source": []
  },
  {
   "cell_type": "code",
   "execution_count": null,
   "metadata": {},
   "outputs": [],
   "source": []
  }
 ],
 "metadata": {
  "kernelspec": {
   "display_name": "Python 3",
   "language": "python",
   "name": "python3"
  },
  "language_info": {
   "codemirror_mode": {
    "name": "ipython",
    "version": 3
   },
   "file_extension": ".py",
   "mimetype": "text/x-python",
   "name": "python",
   "nbconvert_exporter": "python",
   "pygments_lexer": "ipython3",
   "version": "3.6.4"
  }
 },
 "nbformat": 4,
 "nbformat_minor": 2
}
