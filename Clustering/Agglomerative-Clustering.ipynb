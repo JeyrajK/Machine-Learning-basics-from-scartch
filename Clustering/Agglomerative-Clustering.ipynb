{
 "cells": [
  {
   "cell_type": "code",
   "execution_count": 2,
   "metadata": {},
   "outputs": [
    {
     "data": {
      "image/png": "[encoded data removed]",
      "text/plain": [
       "<Figure size 432x288 with 1 Axes>"
      ]
     },
     "metadata": {},
     "output_type": "display_data"
    }
   ],
   "source": [
    "import matplotlib.pyplot as plt\n",
    "from matplotlib import style\n",
    "style.use('ggplot')\n",
    "import numpy as np\n",
    "\n",
    "X = np.array([[1, 2],\n",
    "              [1.5, 1.8],\n",
    "              [5, 8 ],\n",
    "              [8, 8],\n",
    "              [1, 0.6],\n",
    "              [9,11],\n",
    "              [8,2],\n",
    "              [10,2],\n",
    "              [9,3],])\n",
    "\n",
    "plt.scatter(X[:,0], X[:,1], s=150)\n",
    "plt.show()"
   ]
  },
  {
   "cell_type": "code",
   "execution_count": 36,
   "metadata": {
    "scrolled": false
   },
   "outputs": [
    {
     "data": {
      "text/plain": [
       "9"
      ]
     },
     "execution_count": 36,
     "metadata": {},
     "output_type": "execute_result"
    }
   ],
   "source": [
    "row_count=X.shape[0]\n",
    "row_count"
   ]
  },
  {
   "cell_type": "code",
   "execution_count": 37,
   "metadata": {},
   "outputs": [],
   "source": [
    "import math\n",
    "def Euclidean_distance(feature,centroid):\n",
    "    return np.sqrt(np.sum(np.square(feature-centroid)))"
   ]
  },
  {
   "cell_type": "code",
   "execution_count": 38,
   "metadata": {},
   "outputs": [],
   "source": [
    "point_distances = [[0.0 for x in range(row_count)] for y in range(row_count)]\n",
    "for i in range(0, row_count):\n",
    "    j = i\n",
    "    while j < row_count:\n",
    "        point_distances[i][j] = Euclidean_distance(X[i], X[j])\n",
    "        point_distances[j][i] = point_distances[i][j]\n",
    "        j = j+1"
   ]
  },
  {
   "cell_type": "code",
   "execution_count": 39,
   "metadata": {
    "scrolled": true
   },
   "outputs": [
    {
     "data": {
      "text/plain": [
       "array([[ 0.        ,  0.53851648,  7.21110255,  9.21954446,  1.4       ,\n",
       "        12.04159458,  7.        ,  9.        ,  8.06225775],\n",
       "       [ 0.53851648,  0.        ,  7.119691  ,  8.98276127,  1.3       ,\n",
       "        11.86970935,  6.5030762 ,  8.50235262,  7.59539334],\n",
       "       [ 7.21110255,  7.119691  ,  0.        ,  3.        ,  8.41189634,\n",
       "         5.        ,  6.70820393,  7.81024968,  6.40312424],\n",
       "       [ 9.21954446,  8.98276127,  3.        ,  0.        , 10.18626526,\n",
       "         3.16227766,  6.        ,  6.32455532,  5.09901951],\n",
       "       [ 1.4       ,  1.3       ,  8.41189634, 10.18626526,  0.        ,\n",
       "        13.12097557,  7.13862732,  9.10823803,  8.35224521],\n",
       "       [12.04159458, 11.86970935,  5.        ,  3.16227766, 13.12097557,\n",
       "         0.        ,  9.05538514,  9.05538514,  8.        ],\n",
       "       [ 7.        ,  6.5030762 ,  6.70820393,  6.        ,  7.13862732,\n",
       "         9.05538514,  0.        ,  2.        ,  1.41421356],\n",
       "       [ 9.        ,  8.50235262,  7.81024968,  6.32455532,  9.10823803,\n",
       "         9.05538514,  2.        ,  0.        ,  1.41421356],\n",
       "       [ 8.06225775,  7.59539334,  6.40312424,  5.09901951,  8.35224521,\n",
       "         8.        ,  1.41421356,  1.41421356,  0.        ]])"
      ]
     },
     "execution_count": 39,
     "metadata": {},
     "output_type": "execute_result"
    }
   ],
   "source": [
    "np.array(point_distances)"
   ]
  },
  {
   "cell_type": "code",
   "execution_count": 40,
   "metadata": {},
   "outputs": [
    {
     "data": {
      "image/png": "[encoded data removed]",
      "text/plain": [
       "<Figure size 720x504 with 1 Axes>"
      ]
     },
     "metadata": {},
     "output_type": "display_data"
    }
   ],
   "source": [
    "import scipy.cluster.hierarchy as shc\n",
    "plt.figure(figsize=(10, 7))  \n",
    "plt.title(\"Dendrograms\")  \n",
    "dend = shc.dendrogram(shc.linkage(X))"
   ]
  },
  {
   "cell_type": "code",
   "execution_count": 41,
   "metadata": {},
   "outputs": [
    {
     "data": {
      "text/plain": [
       "<matplotlib.lines.Line2D at 0x207babf92e8>"
      ]
     },
     "execution_count": 41,
     "metadata": {},
     "output_type": "execute_result"
    },
    {
     "data": {
      "image/png": "[encoded data removed]",
      "text/plain": [
       "<Figure size 720x504 with 1 Axes>"
      ]
     },
     "metadata": {},
     "output_type": "display_data"
    }
   ],
   "source": [
    "plt.figure(figsize=(10, 7))  \n",
    "plt.title(\"Dendrograms\")  \n",
    "dend = shc.dendrogram(shc.linkage(X))\n",
    "plt.axhline(y=4, color='r', linestyle='--')"
   ]
  },
  {
   "cell_type": "code",
   "execution_count": 42,
   "metadata": {},
   "outputs": [],
   "source": [
    "cluster_list = list()\n",
    "for i in range(0, row_count):\n",
    "    newInnerList = list()\n",
    "    cluster_list.append([newInnerList, 1]) #1 represents the number of elements in cluster\n",
    "    cluster_list[i][0].append([X[i], i])"
   ]
  },
  {
   "cell_type": "code",
   "execution_count": 43,
   "metadata": {
    "scrolled": false
   },
   "outputs": [
    {
     "data": {
      "text/plain": [
       "([[[[array([1., 2.]), 0]], 1],\n",
       "  [[[array([1.5, 1.8]), 1]], 1],\n",
       "  [[[array([5., 8.]), 2]], 1],\n",
       "  [[[array([8., 8.]), 3]], 1],\n",
       "  [[[array([1. , 0.6]), 4]], 1],\n",
       "  [[[array([ 9., 11.]), 5]], 1],\n",
       "  [[[array([8., 2.]), 6]], 1],\n",
       "  [[[array([10.,  2.]), 7]], 1],\n",
       "  [[[array([9., 3.]), 8]], 1]],\n",
       " 9)"
      ]
     },
     "execution_count": 43,
     "metadata": {},
     "output_type": "execute_result"
    }
   ],
   "source": [
    "cluster_list ,len(cluster_list)"
   ]
  },
  {
   "cell_type": "code",
   "execution_count": 44,
   "metadata": {},
   "outputs": [],
   "source": [
    "cluster_distances =  [[0.0 for x in range(len(cluster_list))] for y in range(len(cluster_list))]"
   ]
  },
  {
   "cell_type": "code",
   "execution_count": 45,
   "metadata": {
    "scrolled": true
   },
   "outputs": [
    {
     "data": {
      "text/plain": [
       "[[0.0, 0.0, 0.0, 0.0, 0.0, 0.0, 0.0, 0.0, 0.0],\n",
       " [0.0, 0.0, 0.0, 0.0, 0.0, 0.0, 0.0, 0.0, 0.0],\n",
       " [0.0, 0.0, 0.0, 0.0, 0.0, 0.0, 0.0, 0.0, 0.0],\n",
       " [0.0, 0.0, 0.0, 0.0, 0.0, 0.0, 0.0, 0.0, 0.0],\n",
       " [0.0, 0.0, 0.0, 0.0, 0.0, 0.0, 0.0, 0.0, 0.0],\n",
       " [0.0, 0.0, 0.0, 0.0, 0.0, 0.0, 0.0, 0.0, 0.0],\n",
       " [0.0, 0.0, 0.0, 0.0, 0.0, 0.0, 0.0, 0.0, 0.0],\n",
       " [0.0, 0.0, 0.0, 0.0, 0.0, 0.0, 0.0, 0.0, 0.0],\n",
       " [0.0, 0.0, 0.0, 0.0, 0.0, 0.0, 0.0, 0.0, 0.0]]"
      ]
     },
     "execution_count": 45,
     "metadata": {},
     "output_type": "execute_result"
    }
   ],
   "source": [
    "cluster_distances"
   ]
  },
  {
   "cell_type": "code",
   "execution_count": 46,
   "metadata": {},
   "outputs": [],
   "source": [
    "distances_minheap = []"
   ]
  },
  {
   "cell_type": "code",
   "execution_count": 47,
   "metadata": {},
   "outputs": [],
   "source": [
    "from heapq import heappush, heappop\n",
    "for i in range(0, len(cluster_list)):\n",
    "    j = i + 1\n",
    "    while j < len(cluster_list):\n",
    "        for k in range(0, len(cluster_list[i][0])):\n",
    "            for l in range(0, len(cluster_list[j][0])):\n",
    "                cluster_distances[i][j] = cluster_distances[i][j] + point_distances[cluster_list[i][0][k][1]][cluster_list[j][0][l][1]]\n",
    "        cluster_distances[i][j] = cluster_distances[i][j] * (1.0/(cluster_list[i][1] * cluster_list[j][1]))\n",
    "        cluster_distances[j][i] = cluster_distances[i][j]\n",
    "        heappush(distances_minheap, (cluster_distances[i][j], i , j, cluster_list[i][1], cluster_list[j][1]))\n",
    "        j = j + 1"
   ]
  },
  {
   "cell_type": "code",
   "execution_count": 48,
   "metadata": {
    "scrolled": false
   },
   "outputs": [
    {
     "data": {
      "text/plain": [
       "(1, 1)"
      ]
     },
     "execution_count": 48,
     "metadata": {},
     "output_type": "execute_result"
    }
   ],
   "source": [
    "cluster_list[0][1] , cluster_list[1][1]"
   ]
  },
  {
   "cell_type": "code",
   "execution_count": 49,
   "metadata": {},
   "outputs": [
    {
     "data": {
      "text/plain": [
       "(array([[ 0.53851648,  0.        ,  1.        ,  1.        ,  1.        ],\n",
       "        [ 1.3       ,  1.        ,  4.        ,  1.        ,  1.        ],\n",
       "        [ 5.09901951,  3.        ,  8.        ,  1.        ,  1.        ],\n",
       "        [ 1.41421356,  6.        ,  8.        ,  1.        ,  1.        ],\n",
       "        [ 1.4       ,  0.        ,  4.        ,  1.        ,  1.        ],\n",
       "        [ 6.        ,  3.        ,  6.        ,  1.        ,  1.        ],\n",
       "        [ 7.13862732,  4.        ,  6.        ,  1.        ,  1.        ],\n",
       "        [ 2.        ,  6.        ,  7.        ,  1.        ,  1.        ],\n",
       "        [ 1.41421356,  7.        ,  8.        ,  1.        ,  1.        ],\n",
       "        [ 6.40312424,  2.        ,  8.        ,  1.        ,  1.        ],\n",
       "        [ 3.16227766,  3.        ,  5.        ,  1.        ,  1.        ],\n",
       "        [ 6.5030762 ,  1.        ,  6.        ,  1.        ,  1.        ],\n",
       "        [ 6.32455532,  3.        ,  7.        ,  1.        ,  1.        ],\n",
       "        [ 7.59539334,  1.        ,  8.        ,  1.        ,  1.        ],\n",
       "        [ 8.35224521,  4.        ,  8.        ,  1.        ,  1.        ],\n",
       "        [ 8.        ,  5.        ,  8.        ,  1.        ,  1.        ],\n",
       "        [ 3.        ,  2.        ,  3.        ,  1.        ,  1.        ],\n",
       "        [ 5.        ,  2.        ,  5.        ,  1.        ,  1.        ],\n",
       "        [ 6.70820393,  2.        ,  6.        ,  1.        ,  1.        ],\n",
       "        [12.04159458,  0.        ,  5.        ,  1.        ,  1.        ],\n",
       "        [ 7.81024968,  2.        ,  7.        ,  1.        ,  1.        ],\n",
       "        [10.18626526,  3.        ,  4.        ,  1.        ,  1.        ],\n",
       "        [ 8.98276127,  1.        ,  3.        ,  1.        ,  1.        ],\n",
       "        [11.86970935,  1.        ,  5.        ,  1.        ,  1.        ],\n",
       "        [ 7.        ,  0.        ,  6.        ,  1.        ,  1.        ],\n",
       "        [ 9.21954446,  0.        ,  3.        ,  1.        ,  1.        ],\n",
       "        [13.12097557,  4.        ,  5.        ,  1.        ,  1.        ],\n",
       "        [ 9.        ,  0.        ,  7.        ,  1.        ,  1.        ],\n",
       "        [ 9.10823803,  4.        ,  7.        ,  1.        ,  1.        ],\n",
       "        [ 8.50235262,  1.        ,  7.        ,  1.        ,  1.        ],\n",
       "        [ 9.05538514,  5.        ,  6.        ,  1.        ,  1.        ],\n",
       "        [ 9.05538514,  5.        ,  7.        ,  1.        ,  1.        ],\n",
       "        [ 8.06225775,  0.        ,  8.        ,  1.        ,  1.        ],\n",
       "        [ 8.41189634,  2.        ,  4.        ,  1.        ,  1.        ],\n",
       "        [ 7.119691  ,  1.        ,  2.        ,  1.        ,  1.        ],\n",
       "        [ 7.21110255,  0.        ,  2.        ,  1.        ,  1.        ]]),\n",
       " (36, 5))"
      ]
     },
     "execution_count": 49,
     "metadata": {},
     "output_type": "execute_result"
    }
   ],
   "source": [
    "np.array(distances_minheap) ,np.array(distances_minheap).shape"
   ]
  },
  {
   "cell_type": "code",
   "execution_count": 50,
   "metadata": {
    "scrolled": true
   },
   "outputs": [
    {
     "data": {
      "text/plain": [
       "array([[ 0.        ,  0.53851648,  7.21110255,  9.21954446,  1.4       ,\n",
       "        12.04159458,  7.        ,  9.        ,  8.06225775],\n",
       "       [ 0.53851648,  0.        ,  7.119691  ,  8.98276127,  1.3       ,\n",
       "        11.86970935,  6.5030762 ,  8.50235262,  7.59539334],\n",
       "       [ 7.21110255,  7.119691  ,  0.        ,  3.        ,  8.41189634,\n",
       "         5.        ,  6.70820393,  7.81024968,  6.40312424],\n",
       "       [ 9.21954446,  8.98276127,  3.        ,  0.        , 10.18626526,\n",
       "         3.16227766,  6.        ,  6.32455532,  5.09901951],\n",
       "       [ 1.4       ,  1.3       ,  8.41189634, 10.18626526,  0.        ,\n",
       "        13.12097557,  7.13862732,  9.10823803,  8.35224521],\n",
       "       [12.04159458, 11.86970935,  5.        ,  3.16227766, 13.12097557,\n",
       "         0.        ,  9.05538514,  9.05538514,  8.        ],\n",
       "       [ 7.        ,  6.5030762 ,  6.70820393,  6.        ,  7.13862732,\n",
       "         9.05538514,  0.        ,  2.        ,  1.41421356],\n",
       "       [ 9.        ,  8.50235262,  7.81024968,  6.32455532,  9.10823803,\n",
       "         9.05538514,  2.        ,  0.        ,  1.41421356],\n",
       "       [ 8.06225775,  7.59539334,  6.40312424,  5.09901951,  8.35224521,\n",
       "         8.        ,  1.41421356,  1.41421356,  0.        ]])"
      ]
     },
     "execution_count": 50,
     "metadata": {},
     "output_type": "execute_result"
    }
   ],
   "source": [
    "np.array(cluster_distances)"
   ]
  },
  {
   "cell_type": "code",
   "execution_count": 51,
   "metadata": {},
   "outputs": [],
   "source": [
    "ignore_cluster_list = []\n",
    "totalClusterCount = row_count\n",
    "toMerge = None\n",
    "k_value=3"
   ]
  },
  {
   "cell_type": "code",
   "execution_count": 52,
   "metadata": {
    "scrolled": true
   },
   "outputs": [
    {
     "data": {
      "text/plain": [
       "(0.5385164807134504, 0, 1, 1, 1)"
      ]
     },
     "execution_count": 52,
     "metadata": {},
     "output_type": "execute_result"
    }
   ],
   "source": [
    "distances_minheap[0]"
   ]
  },
  {
   "cell_type": "code",
   "execution_count": 53,
   "metadata": {},
   "outputs": [
    {
     "data": {
      "text/plain": [
       "[[[array([1., 2.]), 0]], 1]"
      ]
     },
     "execution_count": 53,
     "metadata": {},
     "output_type": "execute_result"
    }
   ],
   "source": [
    "cluster_list[0]"
   ]
  },
  {
   "cell_type": "code",
   "execution_count": 61,
   "metadata": {},
   "outputs": [
    {
     "data": {
      "text/plain": [
       "(1, [[array([1.5, 1.8]), 1]], 1)"
      ]
     },
     "execution_count": 61,
     "metadata": {},
     "output_type": "execute_result"
    }
   ],
   "source": [
    "cluster_list[0][1] , cluster_list[1][0] , len(cluster_list[1][0])"
   ]
  },
  {
   "cell_type": "code",
   "execution_count": 62,
   "metadata": {},
   "outputs": [],
   "source": [
    "while totalClusterCount > k_value:\n",
    "    toMerge = heappop(distances_minheap)\n",
    "    while toMerge[1] in ignore_cluster_list or toMerge[2] in ignore_cluster_list or cluster_list[toMerge[1]][1] != toMerge[3] or cluster_list[toMerge[2]][1] != toMerge[4]:\n",
    "        toMerge = heappop(distances_minheap)\n",
    "\n",
    "    cluster_list[toMerge[1]][1] = cluster_list[toMerge[1]][1] + cluster_list[toMerge[2]][1] \n",
    "    \n",
    "    for point in cluster_list[toMerge[2]][0]:\n",
    "        cluster_list[toMerge[1]][0].append(point)\n",
    "        \n",
    "    ignore_cluster_list.append(toMerge[2])\n",
    "    totalClusterCount = totalClusterCount - 1\n",
    "\n",
    "    for i in range(0, len(cluster_list)):\n",
    "        if i == toMerge[1] or i in ignore_cluster_list:\n",
    "            continue\n",
    "        cluster_distances[toMerge[1]][i] = 0\n",
    "        for j in range(0, len(cluster_list[toMerge[1]][0])):\n",
    "            for k in range(0, len(cluster_list[i][0])):\n",
    "                cluster_distances[toMerge[1]][i] = cluster_distances[toMerge[1]][i] + point_distances[cluster_list[toMerge[1]][0][j][1]][cluster_list[i][0][k][1]]\n",
    "        cluster_distances[toMerge[1]][i] = cluster_distances[toMerge[1]][i] * (1.0/(float(cluster_list[toMerge[1]][1]) * float(cluster_list[i][1])))\n",
    "        cluster_distances[i][toMerge[1]] = cluster_distances[toMerge[1]][i]\n",
    "\n",
    "        heap_tuple =  (cluster_distances[toMerge[1]][i], toMerge[1] , i, cluster_list[toMerge[1]][1], cluster_list[i][1])\n",
    "        heappush(distances_minheap, heap_tuple)"
   ]
  },
  {
   "cell_type": "code",
   "execution_count": 63,
   "metadata": {},
   "outputs": [
    {
     "data": {
      "text/plain": [
       "array([[ 0.        ,  0.53851648,  9.79594893,  9.462857  ,  1.35      ,\n",
       "        12.34409317,  7.91802116,  8.87019688,  8.00329877],\n",
       "       [ 0.53851648,  0.        ,  7.119691  ,  8.98276127,  1.3       ,\n",
       "        11.86970935,  6.5030762 ,  8.50235262,  7.59539334],\n",
       "       [ 9.79594893,  7.119691  ,  0.        ,  3.        ,  8.41189634,\n",
       "         4.08113883,  7.16176922,  7.81024968,  6.40312424],\n",
       "       [ 9.462857  ,  8.98276127,  3.        ,  0.        , 10.18626526,\n",
       "         3.16227766,  5.80785828,  6.32455532,  5.09901951],\n",
       "       [ 1.35      ,  1.3       ,  8.41189634, 10.18626526,  0.        ,\n",
       "        13.12097557,  7.13862732,  9.10823803,  8.35224521],\n",
       "       [12.34409317, 11.86970935,  4.08113883,  3.16227766, 13.12097557,\n",
       "         0.        ,  8.70359009,  9.05538514,  8.        ],\n",
       "       [ 7.91802116,  6.5030762 ,  7.16176922,  5.80785828,  7.13862732,\n",
       "         8.70359009,  0.        ,  1.70710678,  1.41421356],\n",
       "       [ 8.87019688,  8.50235262,  7.81024968,  6.32455532,  9.10823803,\n",
       "         9.05538514,  1.70710678,  0.        ,  1.41421356],\n",
       "       [ 8.00329877,  7.59539334,  6.40312424,  5.09901951,  8.35224521,\n",
       "         8.        ,  1.41421356,  1.41421356,  0.        ]])"
      ]
     },
     "execution_count": 63,
     "metadata": {},
     "output_type": "execute_result"
    }
   ],
   "source": [
    "np.array(cluster_distances)"
   ]
  },
  {
   "cell_type": "code",
   "execution_count": 64,
   "metadata": {},
   "outputs": [
    {
     "data": {
      "text/plain": [
       "[[[[array([1., 2.]), 0], [array([1.5, 1.8]), 1], [array([1. , 0.6]), 4]], 3],\n",
       " [[[array([1.5, 1.8]), 1]], 1],\n",
       " [[[array([5., 8.]), 2], [array([8., 8.]), 3], [array([ 9., 11.]), 5]], 3],\n",
       " [[[array([8., 8.]), 3]], 1],\n",
       " [[[array([1. , 0.6]), 4]], 1],\n",
       " [[[array([ 9., 11.]), 5]], 1],\n",
       " [[[array([8., 2.]), 6], [array([9., 3.]), 8], [array([10.,  2.]), 7]], 3],\n",
       " [[[array([10.,  2.]), 7]], 1],\n",
       " [[[array([9., 3.]), 8]], 1]]"
      ]
     },
     "execution_count": 64,
     "metadata": {},
     "output_type": "execute_result"
    }
   ],
   "source": [
    "cluster_list"
   ]
  },
  {
   "cell_type": "code",
   "execution_count": 66,
   "metadata": {},
   "outputs": [
    {
     "data": {
      "text/plain": [
       "array([[ 5.        ,  2.        ,  5.        ,  1.        ,  1.        ],\n",
       "       [ 5.54950976,  6.        ,  3.        ,  2.        ,  1.        ],\n",
       "       [ 5.09901951,  3.        ,  8.        ,  1.        ,  1.        ],\n",
       "       [ 6.70820393,  2.        ,  6.        ,  1.        ,  1.        ],\n",
       "       [ 6.40312424,  2.        ,  8.        ,  1.        ,  1.        ],\n",
       "       [ 5.80785828,  6.        ,  3.        ,  3.        ,  1.        ],\n",
       "       [ 7.13862732,  4.        ,  6.        ,  1.        ,  1.        ],\n",
       "       [ 7.119691  ,  1.        ,  2.        ,  1.        ,  1.        ],\n",
       "       [ 7.        ,  0.        ,  6.        ,  1.        ,  1.        ],\n",
       "       [ 6.7515381 ,  0.        ,  6.        ,  2.        ,  1.        ],\n",
       "       [ 6.55566408,  6.        ,  2.        ,  2.        ,  1.        ],\n",
       "       [ 6.        ,  3.        ,  6.        ,  1.        ,  1.        ],\n",
       "       [ 6.32455532,  3.        ,  7.        ,  1.        ,  1.        ],\n",
       "       [ 7.59539334,  1.        ,  8.        ,  1.        ,  1.        ],\n",
       "       [ 8.35224521,  4.        ,  8.        ,  1.        ,  1.        ],\n",
       "       [ 8.        ,  5.        ,  8.        ,  1.        ,  1.        ],\n",
       "       [ 8.41189634,  2.        ,  4.        ,  1.        ,  1.        ],\n",
       "       [ 7.16539678,  0.        ,  2.        ,  2.        ,  1.        ],\n",
       "       [ 7.82882554,  0.        ,  8.        ,  2.        ,  1.        ],\n",
       "       [ 7.58089663,  0.        ,  2.        ,  3.        ,  1.        ],\n",
       "       [ 7.81024968,  2.        ,  7.        ,  1.        ,  1.        ],\n",
       "       [ 7.21110255,  0.        ,  2.        ,  1.        ,  1.        ],\n",
       "       [ 6.88056784,  0.        ,  6.        ,  3.        ,  1.        ],\n",
       "       [ 6.97385928,  6.        ,  2.        ,  3.        ,  1.        ],\n",
       "       [ 6.5030762 ,  1.        ,  6.        ,  1.        ,  1.        ],\n",
       "       [ 6.39085878,  2.        ,  6.        ,  2.        ,  3.        ],\n",
       "       [13.12097557,  4.        ,  5.        ,  1.        ,  1.        ],\n",
       "       [ 9.        ,  0.        ,  7.        ,  1.        ,  1.        ],\n",
       "       [ 9.10823803,  4.        ,  7.        ,  1.        ,  1.        ],\n",
       "       [ 8.50235262,  1.        ,  7.        ,  1.        ,  1.        ],\n",
       "       [ 9.05538514,  5.        ,  6.        ,  1.        ,  1.        ],\n",
       "       [ 9.05538514,  5.        ,  7.        ,  1.        ,  1.        ],\n",
       "       [ 8.06225775,  0.        ,  8.        ,  1.        ,  1.        ],\n",
       "       [ 8.87019688,  0.        ,  7.        ,  3.        ,  1.        ],\n",
       "       [ 8.98276127,  1.        ,  3.        ,  1.        ,  1.        ],\n",
       "       [ 8.75117631,  0.        ,  7.        ,  2.        ,  1.        ],\n",
       "       [ 9.10115286,  0.        ,  3.        ,  2.        ,  1.        ],\n",
       "       [11.86970935,  1.        ,  5.        ,  1.        ,  1.        ],\n",
       "       [11.95565196,  0.        ,  5.        ,  2.        ,  1.        ],\n",
       "       [12.04159458,  0.        ,  5.        ,  1.        ,  1.        ],\n",
       "       [ 9.21954446,  0.        ,  3.        ,  1.        ,  1.        ],\n",
       "       [ 9.462857  ,  0.        ,  3.        ,  3.        ,  1.        ],\n",
       "       [12.34409317,  0.        ,  5.        ,  3.        ,  1.        ],\n",
       "       [10.18626526,  3.        ,  4.        ,  1.        ,  1.        ],\n",
       "       [ 7.4419333 ,  6.        ,  0.        ,  2.        ,  3.        ],\n",
       "       [ 8.00329877,  0.        ,  8.        ,  3.        ,  1.        ],\n",
       "       [ 8.70359009,  6.        ,  5.        ,  3.        ,  1.        ],\n",
       "       [ 8.52769257,  6.        ,  5.        ,  2.        ,  1.        ],\n",
       "       [ 7.91802116,  6.        ,  0.        ,  3.        ,  3.        ],\n",
       "       [ 8.52187681,  2.        ,  0.        ,  2.        ,  3.        ],\n",
       "       [ 9.79594893,  2.        ,  0.        ,  3.        ,  3.        ],\n",
       "       [ 7.16176922,  2.        ,  6.        ,  3.        ,  3.        ]])"
      ]
     },
     "execution_count": 66,
     "metadata": {},
     "output_type": "execute_result"
    }
   ],
   "source": [
    "np.array(distances_minheap)"
   ]
  },
  {
   "cell_type": "code",
   "execution_count": 67,
   "metadata": {},
   "outputs": [
    {
     "data": {
      "text/plain": [
       "2"
      ]
     },
     "execution_count": 67,
     "metadata": {},
     "output_type": "execute_result"
    }
   ],
   "source": [
    "col_count=X.shape[1]\n",
    "col_count"
   ]
  },
  {
   "cell_type": "code",
   "execution_count": 68,
   "metadata": {},
   "outputs": [],
   "source": [
    "def add_points(point_1, point_2):\n",
    "    for i in range(0, len(point_1)):\n",
    "        point_1[i] = float(point_1[i]) + float(point_2[i])\n",
    "    return point_1"
   ]
  },
  {
   "cell_type": "code",
   "execution_count": 69,
   "metadata": {},
   "outputs": [],
   "source": [
    "centroid_points = [[0.0 for x in range(col_count)] for y in range(k_value)]\n",
    "centroid_index = 0\n",
    "for i in range(0, row_count):\n",
    "    if i in ignore_cluster_list:\n",
    "        continue\n",
    "    else:\n",
    "        for j in range(0, len(cluster_list[i][0])):\n",
    "            centroid_points[centroid_index] = add_points(centroid_points[centroid_index], cluster_list[i][0][j][0])\n",
    "\n",
    "        for j in range(0, len(centroid_points[centroid_index])):\n",
    "            centroid_points[centroid_index][j] = centroid_points[centroid_index][j] / float(cluster_list[i][1])\n",
    "        centroid_index = centroid_index + 1"
   ]
  },
  {
   "cell_type": "code",
   "execution_count": 70,
   "metadata": {},
   "outputs": [
    {
     "data": {
      "text/plain": [
       "[[1.1666666666666667, 1.4666666666666666],\n",
       " [7.333333333333333, 9.0],\n",
       " [9.0, 2.3333333333333335]]"
      ]
     },
     "execution_count": 70,
     "metadata": {},
     "output_type": "execute_result"
    }
   ],
   "source": [
    "centroid_points"
   ]
  },
  {
   "cell_type": "code",
   "execution_count": 71,
   "metadata": {},
   "outputs": [
    {
     "data": {
      "text/plain": [
       "[0, 0, 1, 1, 0, 1, 2, 2, 2]"
      ]
     },
     "execution_count": 71,
     "metadata": {},
     "output_type": "execute_result"
    }
   ],
   "source": [
    "labels=[]\n",
    "for point in X:\n",
    "    dist=[]\n",
    "    for cluster in centroid_points:\n",
    "        dist.append(Euclidean_distance(point,cluster))\n",
    "    labels.append(dist.index(min(dist)))\n",
    "labels"
   ]
  },
  {
   "cell_type": "code",
   "execution_count": 72,
   "metadata": {},
   "outputs": [
    {
     "data": {
      "text/plain": [
       "<matplotlib.collections.PathCollection at 0x207bacf8390>"
      ]
     },
     "execution_count": 72,
     "metadata": {},
     "output_type": "execute_result"
    },
    {
     "data": {
      "image/png": "[encoded data removed]",
      "text/plain": [
       "<Figure size 720x504 with 1 Axes>"
      ]
     },
     "metadata": {},
     "output_type": "display_data"
    }
   ],
   "source": [
    "plt.figure(figsize=(10, 7))  \n",
    "plt.scatter(X[:,0],X[:,1], c=labels) "
   ]
  },
  {
   "cell_type": "code",
   "execution_count": null,
   "metadata": {},
   "outputs": [],
   "source": []
  },
  {
   "cell_type": "code",
   "execution_count": null,
   "metadata": {},
   "outputs": [],
   "source": []
  },
  {
   "cell_type": "code",
   "execution_count": null,
   "metadata": {},
   "outputs": [],
   "source": []
  }
 ],
 "metadata": {
  "kernelspec": {
   "display_name": "Python 3",
   "language": "python",
   "name": "python3"
  },
  "language_info": {
   "codemirror_mode": {
    "name": "ipython",
    "version": 3
   },
   "file_extension": ".py",
   "mimetype": "text/x-python",
   "name": "python",
   "nbconvert_exporter": "python",
   "pygments_lexer": "ipython3",
   "version": "3.6.4"
  }
 },
 "nbformat": 4,
 "nbformat_minor": 2
}
