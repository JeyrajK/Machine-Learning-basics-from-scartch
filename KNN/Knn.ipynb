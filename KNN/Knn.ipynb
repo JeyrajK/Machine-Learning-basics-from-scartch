{
 "cells": [
  {
   "cell_type": "markdown",
   "metadata": {},
   "source": [
    "## K-Nearest Neighbors"
   ]
  },
  {
   "cell_type": "markdown",
   "metadata": {},
   "source": [
    "K nearest neighbors or KNN Algorithm is a simple algorithm which uses the entire dataset in its training phase. Whenever a prediction is required for an unseen data instance, it searches through the entire training dataset for k-most similar instances and the data with the most similar instance is finally returned as the prediction. "
   ]
  },
  {
   "cell_type": "markdown",
   "metadata": {},
   "source": [
    "Most similar items is found by calculating the distance between 2 data points ia a space.\n",
    "\n",
    "The similarity measure is dependent on the type of data. For real-valued data, the Euclidean distance can be used. Other other types of data such as categorical or binary data, Hamming distance can be used."
   ]
  },
  {
   "cell_type": "markdown",
   "metadata": {},
   "source": [
    "In the case of regression problems, the average of the predicted attribute may be returned. In the case of classification, the most prevalent class may be returned."
   ]
  },
  {
   "cell_type": "markdown",
   "metadata": {},
   "source": [
    "** k in kNN algorithm represents the number of nearest neighbor points which are voting for the new test data’s class.**\n",
    "![](KNN-Algorithm.png)"
   ]
  },
  {
   "cell_type": "markdown",
   "metadata": {},
   "source": [
    "### Steps:\n",
    "1. Find distances between new item and all other items\n",
    "2. Pick k shorter distances\n",
    "3. Pick the most common class in these k distances\n",
    "4. That class is where we will classify the new item"
   ]
  },
  {
   "cell_type": "code",
   "execution_count": 1,
   "metadata": {},
   "outputs": [],
   "source": [
    "import numpy as np\n",
    "import matplotlib.pyplot as plt\n",
    "from sklearn.datasets.samples_generator import make_blobs\n",
    "from collections import Counter"
   ]
  },
  {
   "cell_type": "code",
   "execution_count": 2,
   "metadata": {},
   "outputs": [
    {
     "data": {
      "image/png": "[encoded data removed]",
      "text/plain": [
       "<Figure size 432x288 with 1 Axes>"
      ]
     },
     "metadata": {},
     "output_type": "display_data"
    }
   ],
   "source": [
    "# input data\n",
    "(X,y) =  make_blobs(n_samples=20,n_features=2,centers=2,random_state=101)\n",
    "\n",
    "plt.scatter(X[:,0],X[:,1],marker='o',c=y)\n",
    "plt.show()"
   ]
  },
  {
   "cell_type": "code",
   "execution_count": 3,
   "metadata": {},
   "outputs": [
    {
     "data": {
      "image/png": "[encoded data removed]",
      "text/plain": [
       "<Figure size 432x288 with 1 Axes>"
      ]
     },
     "metadata": {},
     "output_type": "display_data"
    }
   ],
   "source": [
    "# points for testing (blue marked)\n",
    "test_points=[[-10,-6],[-9,-4],[-3,2],[2,4],[1,3]]\n",
    "test_points=np.array(test_points)\n",
    "plt.scatter(X[:,0],X[:,1],marker='o',c=y)\n",
    "plt.scatter(test_points[:,0],test_points[:,1],marker='o')\n",
    "plt.show()"
   ]
  },
  {
   "cell_type": "code",
   "execution_count": 4,
   "metadata": {},
   "outputs": [],
   "source": [
    "#eculidean_distance between 2 data points\n",
    "def get_eculidean_distance(point,k):\n",
    "    euc_distance = np.sqrt(np.sum((X - point)**2 , axis=1))\n",
    "    return np.argsort(euc_distance)[0:k]     # k - specifies the top k points that closer to the test point"
   ]
  },
  {
   "cell_type": "code",
   "execution_count": 5,
   "metadata": {},
   "outputs": [],
   "source": [
    "def predict(test_points,k):\n",
    "    points_labels=[]\n",
    "    \n",
    "    for point in test_points:\n",
    "        distances=get_eculidean_distance(point,k)\n",
    "        \n",
    "        results=[]\n",
    "        for index in distances:\n",
    "            results.append(y[index]) # top k point's label\n",
    "        \n",
    "        label=Counter(results).most_common(1)  # returns highest occured label\n",
    "        points_labels.append([point,label[0][0]])\n",
    "        \n",
    "    return points_labels"
   ]
  },
  {
   "cell_type": "code",
   "execution_count": 6,
   "metadata": {},
   "outputs": [
    {
     "name": "stdout",
     "output_type": "stream",
     "text": [
      "Point =  [-10  -6]\n",
      "Class =  1\n",
      "\n",
      "\n",
      "Point =  [-9 -4]\n",
      "Class =  1\n",
      "\n",
      "\n",
      "Point =  [-3  2]\n",
      "Class =  0\n",
      "\n",
      "\n",
      "Point =  [2 4]\n",
      "Class =  0\n",
      "\n",
      "\n",
      "Point =  [1 3]\n",
      "Class =  0\n",
      "\n",
      "\n"
     ]
    }
   ],
   "source": [
    "results=predict(test_points,10) # here k=10\n",
    "for result in results:\n",
    "    print(\"Point = \",result[0])\n",
    "    print(\"Class = \",result[1])\n",
    "    print('\\n')"
   ]
  },
  {
   "cell_type": "code",
   "execution_count": 7,
   "metadata": {},
   "outputs": [
    {
     "data": {
      "text/plain": [
       "[[array([-10,  -6]), 1],\n",
       " [array([-9, -4]), 1],\n",
       " [array([-3,  2]), 0],\n",
       " [array([2, 4]), 0],\n",
       " [array([1, 3]), 0]]"
      ]
     },
     "execution_count": 7,
     "metadata": {},
     "output_type": "execute_result"
    }
   ],
   "source": [
    "results"
   ]
  },
  {
   "cell_type": "code",
   "execution_count": 8,
   "metadata": {},
   "outputs": [
    {
     "data": {
      "text/plain": [
       "array([1, 1, 0, 0, 0], dtype=object)"
      ]
     },
     "execution_count": 8,
     "metadata": {},
     "output_type": "execute_result"
    }
   ],
   "source": [
    "np.array(results)[:,1]"
   ]
  },
  {
   "cell_type": "code",
   "execution_count": 9,
   "metadata": {},
   "outputs": [
    {
     "data": {
      "image/png": "[encoded data removed]",
      "text/plain": [
       "<Figure size 432x288 with 1 Axes>"
      ]
     },
     "metadata": {},
     "output_type": "display_data"
    }
   ],
   "source": [
    "# plot both train and test data with label  \n",
    "plt.scatter(X[:,0],X[:,1],marker='o',c=y)\n",
    "plt.scatter(test_points[:,0],test_points[:,1],marker='o',c=np.array(results)[:,1])\n",
    "plt.show()"
   ]
  },
  {
   "cell_type": "code",
   "execution_count": null,
   "metadata": {},
   "outputs": [],
   "source": []
  },
  {
   "cell_type": "markdown",
   "metadata": {},
   "source": [
    "The kNN algorithm is belongs to the family of instance-based, competitive learning and lazy learning algorithms.\n",
    "\n",
    "Instance-based algorithms are those algorithms that model the problem using data instances (or rows) in order to make predictive decisions. The kNN algorithm is an extreme form of instance-based methods because all training observations are retained as part of the model.\n",
    "\n",
    "It is a competitive learning algorithm, because it internally uses competition between model elements (data instances) in order to make a predictive decision.\n",
    "\n",
    "Lazy learning refers to the fact that the algorithm does not build a model until the time that a prediction is required."
   ]
  },
  {
   "cell_type": "code",
   "execution_count": null,
   "metadata": {},
   "outputs": [],
   "source": []
  }
 ],
 "metadata": {
  "kernelspec": {
   "display_name": "Python 3",
   "language": "python",
   "name": "python3"
  },
  "language_info": {
   "codemirror_mode": {
    "name": "ipython",
    "version": 3
   },
   "file_extension": ".py",
   "mimetype": "text/x-python",
   "name": "python",
   "nbconvert_exporter": "python",
   "pygments_lexer": "ipython3",
   "version": "3.6.5"
  }
 },
 "nbformat": 4,
 "nbformat_minor": 2
}
