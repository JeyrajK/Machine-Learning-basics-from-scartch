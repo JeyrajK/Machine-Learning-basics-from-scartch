{
 "cells": [
  {
   "cell_type": "markdown",
   "metadata": {},
   "source": [
    "## Neive-Bayes\n",
    "Neive bayes is extremely fast relative to other classification algorithms. It works on Bayes theorem of probability to predict the class of unknown data sets.\n",
    "\n",
    "Bayes Theorem provides a way that we can calculate the probability of a piece of data belonging to a given class, given our prior knowledge. Bayes’ Theorem is stated as:\n",
    "\n",
    "P(class|data) = (P(data|class) * P(class)) / P(data)\n",
    "\n",
    "Where P(class|data) is the probability of class given the provided data.\n",
    "\n",
    "**Steps**\n",
    "\n",
    "1: Separate the data poins by label.\n",
    "\n",
    "2: Calculate the mean, standard deviation of the each features in label wise\n",
    "\n",
    "3: calculate class probabilities of each test data using Gaussian Probability theorem.\n",
    "\n",
    "Gaussian conditional probability is given by:\n",
    "![](https://miro.medium.com/max/1576/1*0If5Mey7FnW_RktMM5BkaQ.png)"
   ]
  },
  {
   "cell_type": "code",
   "execution_count": 1,
   "metadata": {},
   "outputs": [],
   "source": [
    "from sklearn.datasets.samples_generator import make_blobs \n",
    "import numpy as np\n",
    "import matplotlib.pyplot as plt"
   ]
  },
  {
   "cell_type": "code",
   "execution_count": 2,
   "metadata": {},
   "outputs": [],
   "source": [
    "n_features= 2"
   ]
  },
  {
   "cell_type": "code",
   "execution_count": 3,
   "metadata": {},
   "outputs": [
    {
     "data": {
      "image/png": "[encoded data removed]",
      "text/plain": [
       "<Figure size 432x288 with 1 Axes>"
      ]
     },
     "metadata": {},
     "output_type": "display_data"
    }
   ],
   "source": [
    "(X,Y) = make_blobs(n_samples=50,n_features=n_features,centers=2,random_state=101)\n",
    "plt.scatter(X[:,0],X[:,1],c=Y)\n",
    "plt.show()"
   ]
  },
  {
   "cell_type": "code",
   "execution_count": 4,
   "metadata": {
    "scrolled": true
   },
   "outputs": [
    {
     "data": {
      "text/plain": [
       "{0, 1}"
      ]
     },
     "execution_count": 4,
     "metadata": {},
     "output_type": "execute_result"
    }
   ],
   "source": [
    "classes = set(Y)\n",
    "classes"
   ]
  },
  {
   "cell_type": "code",
   "execution_count": 5,
   "metadata": {},
   "outputs": [],
   "source": [
    "sep = {}\n",
    "for c in classes:\n",
    "    sep[c]=[]"
   ]
  },
  {
   "cell_type": "code",
   "execution_count": 6,
   "metadata": {},
   "outputs": [],
   "source": [
    "def seperate(datas,labels):\n",
    "    for data,label in zip(datas,labels):\n",
    "        sep[label].append(data)\n",
    "      \n",
    "    for c,d in sep.items():\n",
    "        sep[c]=np.array(d)\n",
    "    return sep"
   ]
  },
  {
   "cell_type": "code",
   "execution_count": 7,
   "metadata": {},
   "outputs": [
    {
     "data": {
      "text/plain": [
       "(array([[0.85678605, 0.8243512 ],\n",
       "        [2.482819  , 0.80309288]]), array([[-10.47729501,  -5.2768023 ],\n",
       "        [ -8.76419615,  -7.1078015 ]]))"
      ]
     },
     "execution_count": 7,
     "metadata": {},
     "output_type": "execute_result"
    }
   ],
   "source": [
    "sep =seperate(X,Y)\n",
    "sep[0][:2],sep[1][:2]"
   ]
  },
  {
   "cell_type": "code",
   "execution_count": 8,
   "metadata": {},
   "outputs": [],
   "source": [
    "#mean = sum(inputs) / len(inputs)\n",
    "def mean(inp):\n",
    "    return np.mean(inp)"
   ]
  },
  {
   "cell_type": "code",
   "execution_count": 9,
   "metadata": {},
   "outputs": [],
   "source": [
    "#variance = average of the squared differences for each attribute value from the mean\n",
    "#The standard deviation is calculated as the square root of the variance\n",
    "#The standard deviation describes the variation of spread of the data\n",
    "#sqrt((sum(square(inputs - mean)) / (no.of samples -1)))\n",
    "def std_deviation(inp):\n",
    "    M = mean(inp)\n",
    "    variance = np.sum([(inp-M)**2])/float(len(inp)-1)\n",
    "    return np.sqrt(variance)"
   ]
  },
  {
   "cell_type": "code",
   "execution_count": 10,
   "metadata": {},
   "outputs": [],
   "source": [
    "def each_class_mean_stddev(inp,n_features):\n",
    "    out=[]\n",
    "    for i in range(n_features):\n",
    "        att = inp[:,i]\n",
    "        out.append((mean(att),std_deviation(att)))\n",
    "    return(out)"
   ]
  },
  {
   "cell_type": "code",
   "execution_count": 11,
   "metadata": {},
   "outputs": [],
   "source": [
    "def summarize(sep,n_features):\n",
    "    result = {}\n",
    "    for c,d in sep.items():\n",
    "        result[c]=each_class_mean_stddev(d,n_features)\n",
    "    return result"
   ]
  },
  {
   "cell_type": "code",
   "execution_count": 12,
   "metadata": {},
   "outputs": [
    {
     "data": {
      "text/plain": [
       "{0: [(0.33972747210787907, 1.078446608533793),\n",
       "  (1.7603553378516426, 0.875017644389)],\n",
       " 1: [(-9.565614350467806, 0.9158198552063763),\n",
       "  (-6.2415034984999975, 1.1756567045775386)]}"
      ]
     },
     "execution_count": 12,
     "metadata": {},
     "output_type": "execute_result"
    }
   ],
   "source": [
    "result=summarize(sep,n_features)\n",
    "result"
   ]
  },
  {
   "cell_type": "code",
   "execution_count": 13,
   "metadata": {},
   "outputs": [],
   "source": [
    "def calculateProbability(x, mean, stdev):\n",
    "    exponent = np.exp(-(x-mean)**2/(2*(stdev**2)))\n",
    "    return (1 / (np.sqrt(2*np.pi) * stdev)) * exponent"
   ]
  },
  {
   "cell_type": "code",
   "execution_count": 14,
   "metadata": {},
   "outputs": [],
   "source": [
    "def class_prob(summaries, inp):\n",
    "    prob = {}\n",
    "    for c, summ in summaries.items():\n",
    "        prob[c] = 1\n",
    "        for i in range(len(summ)):\n",
    "            mean, stdev = summ[i]\n",
    "            x = inp[i]\n",
    "            prob[c] *= calculateProbability(x, mean, stdev)\n",
    "    return prob"
   ]
  },
  {
   "cell_type": "code",
   "execution_count": 15,
   "metadata": {},
   "outputs": [
    {
     "data": {
      "text/plain": [
       "{0: 0.13468555749691988, 1: 3.9535046806139403e-41}"
      ]
     },
     "execution_count": 15,
     "metadata": {},
     "output_type": "execute_result"
    }
   ],
   "source": [
    "t = [1,2] #testing\n",
    "class_prob(result,t)"
   ]
  },
  {
   "cell_type": "code",
   "execution_count": 16,
   "metadata": {},
   "outputs": [],
   "source": [
    "def predict(summaries, inp):\n",
    "    probs = class_prob(summaries, inp)\n",
    "    bestLabel, bestProb = None, -1\n",
    "    for c, prob in probs.items():\n",
    "        if bestLabel is None or prob > bestProb:\n",
    "            bestProb = prob\n",
    "            bestLabel = c\n",
    "    return bestLabel"
   ]
  },
  {
   "cell_type": "code",
   "execution_count": 17,
   "metadata": {
    "scrolled": true
   },
   "outputs": [
    {
     "data": {
      "text/plain": [
       "0"
      ]
     },
     "execution_count": 17,
     "metadata": {},
     "output_type": "execute_result"
    }
   ],
   "source": [
    "predict(result,t)"
   ]
  },
  {
   "cell_type": "code",
   "execution_count": 18,
   "metadata": {},
   "outputs": [],
   "source": [
    "def getPredictions(summaries, testSet):\n",
    "    predictions = []\n",
    "    for i in range(len(testSet)):\n",
    "        result = predict(summaries, testSet[i])\n",
    "        predictions.append(result)\n",
    "    return predictions"
   ]
  },
  {
   "cell_type": "code",
   "execution_count": 19,
   "metadata": {},
   "outputs": [],
   "source": [
    "testSet = [[1,2],[2,3]]"
   ]
  },
  {
   "cell_type": "code",
   "execution_count": 20,
   "metadata": {},
   "outputs": [
    {
     "data": {
      "text/plain": [
       "[0, 0]"
      ]
     },
     "execution_count": 20,
     "metadata": {},
     "output_type": "execute_result"
    }
   ],
   "source": [
    "getPredictions(result, testSet)"
   ]
  },
  {
   "cell_type": "code",
   "execution_count": 21,
   "metadata": {},
   "outputs": [
    {
     "data": {
      "text/plain": [
       "array([[0.85678605, 0.8243512 ],\n",
       "       [2.482819  , 0.80309288]])"
      ]
     },
     "execution_count": 21,
     "metadata": {},
     "output_type": "execute_result"
    }
   ],
   "source": [
    "X[:2]"
   ]
  },
  {
   "cell_type": "code",
   "execution_count": 22,
   "metadata": {},
   "outputs": [
    {
     "data": {
      "text/plain": [
       "[0, 0, 1]"
      ]
     },
     "execution_count": 22,
     "metadata": {},
     "output_type": "execute_result"
    }
   ],
   "source": [
    "predictions = getPredictions(result, X)\n",
    "predictions[:3]"
   ]
  },
  {
   "cell_type": "code",
   "execution_count": 23,
   "metadata": {},
   "outputs": [],
   "source": [
    "def getAccuracy(correct_label, predictions):\n",
    "    correct = 0\n",
    "    for x in range(len(testSet)):\n",
    "        if correct_label[x] == predictions[x]:\n",
    "            correct += 1\n",
    "    return (correct/float(len(testSet))) * 100.0"
   ]
  },
  {
   "cell_type": "code",
   "execution_count": 24,
   "metadata": {},
   "outputs": [
    {
     "data": {
      "text/plain": [
       "100.0"
      ]
     },
     "execution_count": 24,
     "metadata": {},
     "output_type": "execute_result"
    }
   ],
   "source": [
    "getAccuracy(Y,predictions)"
   ]
  },
  {
   "cell_type": "code",
   "execution_count": null,
   "metadata": {},
   "outputs": [],
   "source": []
  },
  {
   "cell_type": "code",
   "execution_count": null,
   "metadata": {},
   "outputs": [],
   "source": []
  },
  {
   "cell_type": "code",
   "execution_count": null,
   "metadata": {},
   "outputs": [],
   "source": []
  },
  {
   "cell_type": "code",
   "execution_count": null,
   "metadata": {},
   "outputs": [],
   "source": []
  }
 ],
 "metadata": {
  "kernelspec": {
   "display_name": "Python 3",
   "language": "python",
   "name": "python3"
  },
  "language_info": {
   "codemirror_mode": {
    "name": "ipython",
    "version": 3
   },
   "file_extension": ".py",
   "mimetype": "text/x-python",
   "name": "python",
   "nbconvert_exporter": "python",
   "pygments_lexer": "ipython3",
   "version": "3.6.5"
  }
 },
 "nbformat": 4,
 "nbformat_minor": 2
}
