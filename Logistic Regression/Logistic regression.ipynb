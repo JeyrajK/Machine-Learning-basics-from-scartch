{
 "cells": [
  {
   "cell_type": "markdown",
   "metadata": {},
   "source": [
    "## Logistic Regression\n",
    "\n",
    "Logistic regression is basically a supervised classification algorithm.\n",
    "\n",
    "Logistic regression models classifies the data using the sigmoid function.\n",
    "\n",
    "![](logistic regression.png)\n",
    "![](sigmoid.PNG)\n",
    "\n",
    "### Cost Function\n",
    "![](logistic_reg_cost.PNG)"
   ]
  },
  {
   "cell_type": "code",
   "execution_count": 1,
   "metadata": {},
   "outputs": [],
   "source": [
    "import numpy as np\n",
    "import matplotlib.pyplot as plt"
   ]
  },
  {
   "cell_type": "code",
   "execution_count": 2,
   "metadata": {
    "scrolled": false
   },
   "outputs": [
    {
     "data": {
      "image/png": "[encoded data removed]",
      "text/plain": [
       "<Figure size 432x288 with 1 Axes>"
      ]
     },
     "metadata": {},
     "output_type": "display_data"
    }
   ],
   "source": [
    "from sklearn.datasets.samples_generator import make_blobs\n",
    "\n",
    "(X,y) =  make_blobs(n_samples=100,n_features=2,centers=2,cluster_std=1.05,random_state=20)\n",
    "#we need to add 1 to X values (bias)\n",
    "X1 = np.c_[np.ones((X.shape[0])),X]\n",
    "\n",
    "plt.scatter(X1[:,1],X1[:,2],marker='o',c=y)\n",
    "plt.show()"
   ]
  },
  {
   "cell_type": "code",
   "execution_count": 3,
   "metadata": {},
   "outputs": [
    {
     "data": {
      "text/plain": [
       "array([0.74762233, 0.6290655 , 0.73143104])"
      ]
     },
     "execution_count": 3,
     "metadata": {},
     "output_type": "execute_result"
    }
   ],
   "source": [
    "#random weights\n",
    "W=np.random.random(size=X1.shape[1])\n",
    "W"
   ]
  },
  {
   "cell_type": "code",
   "execution_count": 4,
   "metadata": {},
   "outputs": [],
   "source": [
    "def sigmoid(x):\n",
    "    # Activation function used to map any real value between 0 and 1\n",
    "    return 1 / (1 + np.exp(-x))"
   ]
  },
  {
   "cell_type": "code",
   "execution_count": 5,
   "metadata": {},
   "outputs": [],
   "source": [
    "def cost_function(predicted_y):\n",
    "    \n",
    "    error=(-y*np.log(predicted_y)) - ((1-y)*np.log(1-predicted_y))\n",
    "    cf=(1/X1.shape[0])*sum(error)\n",
    "    \n",
    "    return cf,error"
   ]
  },
  {
   "cell_type": "code",
   "execution_count": 6,
   "metadata": {},
   "outputs": [],
   "source": [
    "def gradient_descent(lrate,epochs):\n",
    "    \n",
    "    total_expected_error=float(\"inf\")\n",
    "    iteration=1\n",
    "    for epoch in range(epochs):\n",
    "        global W\n",
    "        \n",
    "        predictedY=sigmoid(X1.dot(W))\n",
    "        total_error,error = cost_function(predictedY)\n",
    "        \n",
    "        print('Error at iteration ',iteration,'-',total_error)\n",
    "        \n",
    "        gradient=X1.T.dot(error)/X1.shape[0]\n",
    "          \n",
    "        if (total_expected_error<total_error):\n",
    "            break\n",
    "            \n",
    "        total_expected_error=total_error\n",
    "        \n",
    "        for (i,w) in enumerate(gradient):\n",
    "            W[i]+=float(-lrate)*w\n",
    "        iteration+=1"
   ]
  },
  {
   "cell_type": "code",
   "execution_count": 7,
   "metadata": {},
   "outputs": [
    {
     "name": "stdout",
     "output_type": "stream",
     "text": [
      "Error at iteration  1 - 3.794826124989407\n",
      "Error at iteration  2 - 3.666574674274018\n",
      "Error at iteration  3 - 3.5426988769435073\n",
      "Error at iteration  4 - 3.423054374963775\n",
      "Error at iteration  5 - 3.3075021154982425\n",
      "Error at iteration  6 - 3.1959081751276432\n",
      "Error at iteration  7 - 3.088143583784588\n",
      "Error at iteration  8 - 2.98408414782058\n",
      "Error at iteration  9 - 2.883610271776064\n",
      "Error at iteration  10 - 2.7866067785977786\n",
      "Error at iteration  11 - 2.692962728236468\n",
      "Error at iteration  12 - 2.602571234756236\n",
      "Error at iteration  13 - 2.515329282287907\n",
      "Error at iteration  14 - 2.43113754035456\n",
      "Error at iteration  15 - 2.3499001792821828\n",
      "Error at iteration  16 - 2.2715246865729677\n",
      "Error at iteration  17 - 2.1959216852586545\n",
      "Error at iteration  18 - 2.123004755358802\n",
      "Error at iteration  19 - 2.0526902596409085\n",
      "Error at iteration  20 - 1.984897174911373\n",
      "Error at iteration  21 - 1.9195469300574926\n",
      "Error at iteration  22 - 1.8565632520106017\n",
      "Error at iteration  23 - 1.7958720207105154\n",
      "Error at iteration  24 - 1.7374011340252582\n",
      "Error at iteration  25 - 1.6810803834218875\n",
      "Error at iteration  26 - 1.6268413410001665\n",
      "Error at iteration  27 - 1.5746172582978784\n",
      "Error at iteration  28 - 1.5243429770620653\n",
      "Error at iteration  29 - 1.4759548519623849\n",
      "Error at iteration  30 - 1.429390685008932\n",
      "Error at iteration  31 - 1.3845896712343402\n",
      "Error at iteration  32 - 1.3414923550156308\n",
      "Error at iteration  33 - 1.3000405962503916\n",
      "Error at iteration  34 - 1.2601775454687796\n",
      "Error at iteration  35 - 1.2218476268605483\n",
      "Error at iteration  36 - 1.1849965281260653\n",
      "Error at iteration  37 - 1.1495711960224515\n",
      "Error at iteration  38 - 1.1155198364691314\n",
      "Error at iteration  39 - 1.0827919180990424\n",
      "Error at iteration  40 - 1.0513381781893651\n",
      "Error at iteration  41 - 1.0211106299748387\n",
      "Error at iteration  42 - 0.9920625704334652\n",
      "Error at iteration  43 - 0.9641485877340649\n",
      "Error at iteration  44 - 0.9373245676433173\n",
      "Error at iteration  45 - 0.9115476983025188\n",
      "Error at iteration  46 - 0.8867764728973451\n",
      "Error at iteration  47 - 0.8629706898542112\n",
      "Error at iteration  48 - 0.8400914503016104\n",
      "Error at iteration  49 - 0.8181011526317752\n",
      "Error at iteration  50 - 0.7969634840857553\n",
      "Error at iteration  51 - 0.776643409362317\n",
      "Error at iteration  52 - 0.757107156317484\n",
      "Error at iteration  53 - 0.7383221988769941\n",
      "Error at iteration  54 - 0.7202572373285966\n",
      "Error at iteration  55 - 0.7028821761956173\n",
      "Error at iteration  56 - 0.6861680999182778\n",
      "Error at iteration  57 - 0.6700872465858032\n",
      "Error at iteration  58 - 0.6546129799714018\n",
      "Error at iteration  59 - 0.6397197601247623\n",
      "Error at iteration  60 - 0.625383112773863\n",
      "Error at iteration  61 - 0.6115795977805556\n",
      "Error at iteration  62 - 0.5982867768835561\n",
      "Error at iteration  63 - 0.5854831809489733\n",
      "Error at iteration  64 - 0.5731482769330617\n",
      "Error at iteration  65 - 0.5612624347452041\n",
      "Error at iteration  66 - 0.5498068941817545\n",
      "Error at iteration  67 - 0.5387637320837589\n",
      "Error at iteration  68 - 0.5281158298541484\n",
      "Error at iteration  69 - 0.5178468414530192\n",
      "Error at iteration  70 - 0.5079411619733917\n",
      "Error at iteration  71 - 0.49838389688443996\n",
      "Error at iteration  72 - 0.48916083201484833\n",
      "Error at iteration  73 - 0.48025840433566547\n",
      "Error at iteration  74 - 0.4716636735898559\n",
      "Error at iteration  75 - 0.4633642948047439\n",
      "Error at iteration  76 - 0.4553484917135999\n",
      "Error at iteration  77 - 0.4476050311037963\n",
      "Error at iteration  78 - 0.4401231981011386\n",
      "Error at iteration  79 - 0.4328927723931442\n",
      "Error at iteration  80 - 0.42590400538809403\n",
      "Error at iteration  81 - 0.41914759830159276\n",
      "Error at iteration  82 - 0.41261468115804045\n",
      "Error at iteration  83 - 0.40629679269077934\n",
      "Error at iteration  84 - 0.4001858611216849\n",
      "Error at iteration  85 - 0.3942741857985296\n",
      "Error at iteration  86 - 0.38855441966650234\n",
      "Error at iteration  87 - 0.38301955254879966\n",
      "Error at iteration  88 - 0.3776628952100819\n",
      "Error at iteration  89 - 0.37247806417584456\n",
      "Error at iteration  90 - 0.3674589672802931\n",
      "Error at iteration  91 - 0.36259978991509706\n",
      "Error at iteration  92 - 0.3578949819514201\n",
      "Error at iteration  93 - 0.35333924530780836\n",
      "Error at iteration  94 - 0.3489275221368802\n",
      "Error at iteration  95 - 0.3446549836042317\n",
      "Error at iteration  96 - 0.34051701923355465\n",
      "Error at iteration  97 - 0.33650922679263967\n",
      "Error at iteration  98 - 0.3326274026956573\n",
      "Error at iteration  99 - 0.3288675328979062\n",
      "Error at iteration  100 - 0.32522578426002774\n",
      "Error at iteration  101 - 0.32169849635953995\n",
      "Error at iteration  102 - 0.31828217372840373\n",
      "Error at iteration  103 - 0.3149734784962001\n",
      "Error at iteration  104 - 0.3117692234193734\n",
      "Error at iteration  105 - 0.30866636527785024\n",
      "Error at iteration  106 - 0.30566199862120585\n",
      "Error at iteration  107 - 0.3027533498473845\n",
      "Error at iteration  108 - 0.29993777159779883\n",
      "Error at iteration  109 - 0.2972127374534401\n",
      "Error at iteration  110 - 0.29457583691740913\n",
      "Error at iteration  111 - 0.29202477067002647\n",
      "Error at iteration  112 - 0.2895573460834266\n",
      "Error at iteration  113 - 0.28717147298323215\n",
      "Error at iteration  114 - 0.2848651596455995\n",
      "Error at iteration  115 - 0.28263650901857335\n",
      "Error at iteration  116 - 0.2804837151573309\n",
      "Error at iteration  117 - 0.27840505986349373\n",
      "Error at iteration  118 - 0.2763989095192791\n",
      "Error at iteration  119 - 0.27446371210781734\n",
      "Error at iteration  120 - 0.27259799441150584\n",
      "Error at iteration  121 - 0.2708003593807845\n",
      "Error at iteration  122 - 0.26906948366621886\n",
      "Error at iteration  123 - 0.26740411530725366\n",
      "Error at iteration  124 - 0.2658030715714598\n",
      "Error at iteration  125 - 0.2642652369385445\n",
      "Error at iteration  126 - 0.262789561223816\n",
      "Error at iteration  127 - 0.26137505783621473\n",
      "Error at iteration  128 - 0.260020802166414\n",
      "Error at iteration  129 - 0.2587259301008888\n",
      "Error at iteration  130 - 0.25748963665821717\n",
      "Error at iteration  131 - 0.2563111747442551\n",
      "Error at iteration  132 - 0.2551898540231724\n",
      "Error at iteration  133 - 0.2541250399016946\n",
      "Error at iteration  134 - 0.2531161526242343\n",
      "Error at iteration  135 - 0.2521626664769324\n",
      "Error at iteration  136 - 0.251264109098969\n",
      "Error at iteration  137 - 0.2504200608998306\n",
      "Error at iteration  138 - 0.24963015458154772\n",
      "Error at iteration  139 - 0.2488940747652596\n",
      "Error at iteration  140 - 0.24821155772177597\n",
      "Error at iteration  141 - 0.247582391206159\n",
      "Error at iteration  142 - 0.24700641439667148\n",
      "Error at iteration  143 - 0.2464835179387994\n",
      "Error at iteration  144 - 0.2460136440953874\n",
      "Error at iteration  145 - 0.2455967870043105\n",
      "Error at iteration  146 - 0.2452329930454606\n",
      "Error at iteration  147 - 0.2449223613192196\n",
      "Error at iteration  148 - 0.2446650442389903\n",
      "Error at iteration  149 - 0.24446124824076812\n",
      "Error at iteration  150 - 0.24431123461318138\n"
     ]
    }
   ],
   "source": [
    "gradient_descent(0.001,150)"
   ]
  },
  {
   "cell_type": "code",
   "execution_count": 8,
   "metadata": {},
   "outputs": [
    {
     "data": {
      "text/plain": [
       "array([0, 1, 1, 1, 1, 0, 1, 0, 0, 0, 0, 1, 1, 0, 1, 1, 1, 0, 1, 1, 0, 1,\n",
       "       0, 1, 1, 0, 0, 1, 0, 0, 1, 0, 0, 0, 0, 1, 0, 0, 1, 0, 0, 1, 1, 0,\n",
       "       0, 1, 1, 1, 1, 0, 0, 0, 0, 1, 1, 1, 0, 0, 1, 1, 1, 1, 0, 1, 0, 1,\n",
       "       0, 1, 0, 0, 0, 1, 0, 0, 1, 0, 1, 0, 0, 1, 1, 0, 1, 1, 0, 1, 0, 1,\n",
       "       1, 1, 0, 0, 0, 1, 1, 0, 1, 0, 0, 1])"
      ]
     },
     "execution_count": 8,
     "metadata": {},
     "output_type": "execute_result"
    }
   ],
   "source": [
    "yhat=sigmoid(X1.dot(W)) # we get the probablities scores (between 0 and 1)\n",
    "\n",
    "#if the score is above 0.5 lets make it 1 else make it 0\n",
    "for i,v in enumerate(yhat):\n",
    "    if v >=0.5: \n",
    "        yhat[i]=1\n",
    "    else:\n",
    "        yhat[i]=0\n",
    "\n",
    "yhat.astype(int)"
   ]
  },
  {
   "cell_type": "code",
   "execution_count": 9,
   "metadata": {},
   "outputs": [
    {
     "data": {
      "text/plain": [
       "array([0, 1, 1, 1, 1, 0, 1, 0, 0, 0, 0, 1, 1, 0, 1, 1, 1, 0, 1, 1, 0, 1,\n",
       "       0, 1, 1, 0, 0, 1, 0, 0, 1, 0, 0, 0, 0, 1, 0, 0, 1, 0, 0, 1, 1, 0,\n",
       "       0, 1, 1, 1, 1, 0, 0, 0, 0, 1, 1, 1, 0, 0, 1, 1, 1, 1, 0, 1, 0, 1,\n",
       "       0, 1, 0, 0, 0, 1, 0, 0, 1, 0, 1, 0, 0, 1, 1, 0, 1, 1, 0, 1, 0, 1,\n",
       "       1, 1, 0, 0, 0, 1, 1, 0, 1, 0, 0, 1])"
      ]
     },
     "execution_count": 9,
     "metadata": {},
     "output_type": "execute_result"
    }
   ],
   "source": [
    "#actual y\n",
    "y  "
   ]
  },
  {
   "cell_type": "code",
   "execution_count": 10,
   "metadata": {
    "scrolled": true
   },
   "outputs": [
    {
     "name": "stdout",
     "output_type": "stream",
     "text": [
      "0.0\n"
     ]
    },
    {
     "data": {
      "text/plain": [
       "1.0"
      ]
     },
     "execution_count": 10,
     "metadata": {},
     "output_type": "execute_result"
    }
   ],
   "source": [
    "#error and acuracy \n",
    "error=sum((yhat-y)**2)\n",
    "print(error)\n",
    "accuracy=1-(error/100)\n",
    "accuracy"
   ]
  },
  {
   "cell_type": "code",
   "execution_count": 11,
   "metadata": {},
   "outputs": [
    {
     "data": {
      "image/png": "[encoded data removed]",
      "text/plain": [
       "<Figure size 432x288 with 1 Axes>"
      ]
     },
     "metadata": {},
     "output_type": "display_data"
    }
   ],
   "source": [
    "plt.scatter(X1[:,1],X1[:,2],marker='o',c=yhat)\n",
    "plt.show()"
   ]
  },
  {
   "cell_type": "code",
   "execution_count": null,
   "metadata": {},
   "outputs": [],
   "source": []
  },
  {
   "cell_type": "code",
   "execution_count": null,
   "metadata": {},
   "outputs": [],
   "source": []
  },
  {
   "cell_type": "code",
   "execution_count": null,
   "metadata": {},
   "outputs": [],
   "source": []
  }
 ],
 "metadata": {
  "kernelspec": {
   "display_name": "Python 3",
   "language": "python",
   "name": "python3"
  },
  "language_info": {
   "codemirror_mode": {
    "name": "ipython",
    "version": 3
   },
   "file_extension": ".py",
   "mimetype": "text/x-python",
   "name": "python",
   "nbconvert_exporter": "python",
   "pygments_lexer": "ipython3",
   "version": "3.6.5"
  }
 },
 "nbformat": 4,
 "nbformat_minor": 2
}
